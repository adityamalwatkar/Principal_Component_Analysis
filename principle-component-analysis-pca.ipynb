{
 "cells": [
  {
   "cell_type": "markdown",
   "metadata": {
    "_cell_guid": "b1076dfc-b9ad-4769-8c92-a6c4dae69d19",
    "_uuid": "8f2839f25d086af736a60e9eeb907d3b93b6e0e5",
    "papermill": {
     "duration": 0.016,
     "end_time": "2020-11-28T10:25:54.379873",
     "exception": false,
     "start_time": "2020-11-28T10:25:54.363873",
     "status": "completed"
    },
    "tags": []
   },
   "source": [
    "# Principle Component Analysis"
   ]
  },
  {
   "cell_type": "markdown",
   "metadata": {
    "papermill": {
     "duration": 0.012486,
     "end_time": "2020-11-28T10:25:54.405325",
     "exception": false,
     "start_time": "2020-11-28T10:25:54.392839",
     "status": "completed"
    },
    "tags": []
   },
   "source": [
    "### Importing Libraries"
   ]
  },
  {
   "cell_type": "code",
   "execution_count": 1,
   "metadata": {
    "execution": {
     "iopub.execute_input": "2020-11-28T10:25:54.436710Z",
     "iopub.status.busy": "2020-11-28T10:25:54.436029Z",
     "iopub.status.idle": "2020-11-28T10:25:56.199616Z",
     "shell.execute_reply": "2020-11-28T10:25:56.198888Z"
    },
    "papermill": {
     "duration": 1.781638,
     "end_time": "2020-11-28T10:25:56.199747",
     "exception": false,
     "start_time": "2020-11-28T10:25:54.418109",
     "status": "completed"
    },
    "tags": []
   },
   "outputs": [],
   "source": [
    "import numpy as np\n",
    "import pandas as pd\n",
    "import statsmodels.api as sm\n",
    "import seaborn as sns\n",
    "import matplotlib.pyplot as plt\n",
    "import math"
   ]
  },
  {
   "cell_type": "markdown",
   "metadata": {
    "papermill": {
     "duration": 0.012782,
     "end_time": "2020-11-28T10:25:56.226039",
     "exception": false,
     "start_time": "2020-11-28T10:25:56.213257",
     "status": "completed"
    },
    "tags": []
   },
   "source": [
    "### Loading Data"
   ]
  },
  {
   "cell_type": "code",
   "execution_count": 2,
   "metadata": {
    "_cell_guid": "79c7e3d0-c299-4dcb-8224-4455121ee9b0",
    "_uuid": "d629ff2d2480ee46fbb7e2d37f6b5fab8052498a",
    "execution": {
     "iopub.execute_input": "2020-11-28T10:25:56.259342Z",
     "iopub.status.busy": "2020-11-28T10:25:56.258262Z",
     "iopub.status.idle": "2020-11-28T10:25:56.293477Z",
     "shell.execute_reply": "2020-11-28T10:25:56.292907Z"
    },
    "papermill": {
     "duration": 0.054476,
     "end_time": "2020-11-28T10:25:56.293632",
     "exception": false,
     "start_time": "2020-11-28T10:25:56.239156",
     "status": "completed"
    },
    "tags": []
   },
   "outputs": [],
   "source": [
    "data = pd.read_csv(\"../input/home-data-for-ml-course/train.csv\")"
   ]
  },
  {
   "cell_type": "code",
   "execution_count": 3,
   "metadata": {
    "execution": {
     "iopub.execute_input": "2020-11-28T10:25:56.345895Z",
     "iopub.status.busy": "2020-11-28T10:25:56.344856Z",
     "iopub.status.idle": "2020-11-28T10:25:56.364280Z",
     "shell.execute_reply": "2020-11-28T10:25:56.363742Z"
    },
    "papermill": {
     "duration": 0.057427,
     "end_time": "2020-11-28T10:25:56.364395",
     "exception": false,
     "start_time": "2020-11-28T10:25:56.306968",
     "status": "completed"
    },
    "tags": []
   },
   "outputs": [
    {
     "data": {
      "text/html": [
       "<div>\n",
       "<style scoped>\n",
       "    .dataframe tbody tr th:only-of-type {\n",
       "        vertical-align: middle;\n",
       "    }\n",
       "\n",
       "    .dataframe tbody tr th {\n",
       "        vertical-align: top;\n",
       "    }\n",
       "\n",
       "    .dataframe thead th {\n",
       "        text-align: right;\n",
       "    }\n",
       "</style>\n",
       "<table border=\"1\" class=\"dataframe\">\n",
       "  <thead>\n",
       "    <tr style=\"text-align: right;\">\n",
       "      <th></th>\n",
       "      <th>Id</th>\n",
       "      <th>MSSubClass</th>\n",
       "      <th>MSZoning</th>\n",
       "      <th>LotFrontage</th>\n",
       "      <th>LotArea</th>\n",
       "      <th>Street</th>\n",
       "      <th>Alley</th>\n",
       "      <th>LotShape</th>\n",
       "      <th>LandContour</th>\n",
       "      <th>Utilities</th>\n",
       "      <th>...</th>\n",
       "      <th>PoolArea</th>\n",
       "      <th>PoolQC</th>\n",
       "      <th>Fence</th>\n",
       "      <th>MiscFeature</th>\n",
       "      <th>MiscVal</th>\n",
       "      <th>MoSold</th>\n",
       "      <th>YrSold</th>\n",
       "      <th>SaleType</th>\n",
       "      <th>SaleCondition</th>\n",
       "      <th>SalePrice</th>\n",
       "    </tr>\n",
       "  </thead>\n",
       "  <tbody>\n",
       "    <tr>\n",
       "      <th>0</th>\n",
       "      <td>1</td>\n",
       "      <td>60</td>\n",
       "      <td>RL</td>\n",
       "      <td>65.0</td>\n",
       "      <td>8450</td>\n",
       "      <td>Pave</td>\n",
       "      <td>NaN</td>\n",
       "      <td>Reg</td>\n",
       "      <td>Lvl</td>\n",
       "      <td>AllPub</td>\n",
       "      <td>...</td>\n",
       "      <td>0</td>\n",
       "      <td>NaN</td>\n",
       "      <td>NaN</td>\n",
       "      <td>NaN</td>\n",
       "      <td>0</td>\n",
       "      <td>2</td>\n",
       "      <td>2008</td>\n",
       "      <td>WD</td>\n",
       "      <td>Normal</td>\n",
       "      <td>208500</td>\n",
       "    </tr>\n",
       "    <tr>\n",
       "      <th>1</th>\n",
       "      <td>2</td>\n",
       "      <td>20</td>\n",
       "      <td>RL</td>\n",
       "      <td>80.0</td>\n",
       "      <td>9600</td>\n",
       "      <td>Pave</td>\n",
       "      <td>NaN</td>\n",
       "      <td>Reg</td>\n",
       "      <td>Lvl</td>\n",
       "      <td>AllPub</td>\n",
       "      <td>...</td>\n",
       "      <td>0</td>\n",
       "      <td>NaN</td>\n",
       "      <td>NaN</td>\n",
       "      <td>NaN</td>\n",
       "      <td>0</td>\n",
       "      <td>5</td>\n",
       "      <td>2007</td>\n",
       "      <td>WD</td>\n",
       "      <td>Normal</td>\n",
       "      <td>181500</td>\n",
       "    </tr>\n",
       "    <tr>\n",
       "      <th>2</th>\n",
       "      <td>3</td>\n",
       "      <td>60</td>\n",
       "      <td>RL</td>\n",
       "      <td>68.0</td>\n",
       "      <td>11250</td>\n",
       "      <td>Pave</td>\n",
       "      <td>NaN</td>\n",
       "      <td>IR1</td>\n",
       "      <td>Lvl</td>\n",
       "      <td>AllPub</td>\n",
       "      <td>...</td>\n",
       "      <td>0</td>\n",
       "      <td>NaN</td>\n",
       "      <td>NaN</td>\n",
       "      <td>NaN</td>\n",
       "      <td>0</td>\n",
       "      <td>9</td>\n",
       "      <td>2008</td>\n",
       "      <td>WD</td>\n",
       "      <td>Normal</td>\n",
       "      <td>223500</td>\n",
       "    </tr>\n",
       "    <tr>\n",
       "      <th>3</th>\n",
       "      <td>4</td>\n",
       "      <td>70</td>\n",
       "      <td>RL</td>\n",
       "      <td>60.0</td>\n",
       "      <td>9550</td>\n",
       "      <td>Pave</td>\n",
       "      <td>NaN</td>\n",
       "      <td>IR1</td>\n",
       "      <td>Lvl</td>\n",
       "      <td>AllPub</td>\n",
       "      <td>...</td>\n",
       "      <td>0</td>\n",
       "      <td>NaN</td>\n",
       "      <td>NaN</td>\n",
       "      <td>NaN</td>\n",
       "      <td>0</td>\n",
       "      <td>2</td>\n",
       "      <td>2006</td>\n",
       "      <td>WD</td>\n",
       "      <td>Abnorml</td>\n",
       "      <td>140000</td>\n",
       "    </tr>\n",
       "    <tr>\n",
       "      <th>4</th>\n",
       "      <td>5</td>\n",
       "      <td>60</td>\n",
       "      <td>RL</td>\n",
       "      <td>84.0</td>\n",
       "      <td>14260</td>\n",
       "      <td>Pave</td>\n",
       "      <td>NaN</td>\n",
       "      <td>IR1</td>\n",
       "      <td>Lvl</td>\n",
       "      <td>AllPub</td>\n",
       "      <td>...</td>\n",
       "      <td>0</td>\n",
       "      <td>NaN</td>\n",
       "      <td>NaN</td>\n",
       "      <td>NaN</td>\n",
       "      <td>0</td>\n",
       "      <td>12</td>\n",
       "      <td>2008</td>\n",
       "      <td>WD</td>\n",
       "      <td>Normal</td>\n",
       "      <td>250000</td>\n",
       "    </tr>\n",
       "  </tbody>\n",
       "</table>\n",
       "<p>5 rows × 81 columns</p>\n",
       "</div>"
      ],
      "text/plain": [
       "   Id  MSSubClass MSZoning  LotFrontage  LotArea Street Alley LotShape  \\\n",
       "0   1          60       RL         65.0     8450   Pave   NaN      Reg   \n",
       "1   2          20       RL         80.0     9600   Pave   NaN      Reg   \n",
       "2   3          60       RL         68.0    11250   Pave   NaN      IR1   \n",
       "3   4          70       RL         60.0     9550   Pave   NaN      IR1   \n",
       "4   5          60       RL         84.0    14260   Pave   NaN      IR1   \n",
       "\n",
       "  LandContour Utilities  ... PoolArea PoolQC Fence MiscFeature MiscVal MoSold  \\\n",
       "0         Lvl    AllPub  ...        0    NaN   NaN         NaN       0      2   \n",
       "1         Lvl    AllPub  ...        0    NaN   NaN         NaN       0      5   \n",
       "2         Lvl    AllPub  ...        0    NaN   NaN         NaN       0      9   \n",
       "3         Lvl    AllPub  ...        0    NaN   NaN         NaN       0      2   \n",
       "4         Lvl    AllPub  ...        0    NaN   NaN         NaN       0     12   \n",
       "\n",
       "  YrSold  SaleType  SaleCondition  SalePrice  \n",
       "0   2008        WD         Normal     208500  \n",
       "1   2007        WD         Normal     181500  \n",
       "2   2008        WD         Normal     223500  \n",
       "3   2006        WD        Abnorml     140000  \n",
       "4   2008        WD         Normal     250000  \n",
       "\n",
       "[5 rows x 81 columns]"
      ]
     },
     "execution_count": 3,
     "metadata": {},
     "output_type": "execute_result"
    }
   ],
   "source": [
    "data.head()"
   ]
  },
  {
   "cell_type": "markdown",
   "metadata": {
    "papermill": {
     "duration": 0.014172,
     "end_time": "2020-11-28T10:25:56.392921",
     "exception": false,
     "start_time": "2020-11-28T10:25:56.378749",
     "status": "completed"
    },
    "tags": []
   },
   "source": [
    "### Input and Output Vectors"
   ]
  },
  {
   "cell_type": "code",
   "execution_count": 4,
   "metadata": {
    "execution": {
     "iopub.execute_input": "2020-11-28T10:25:56.429266Z",
     "iopub.status.busy": "2020-11-28T10:25:56.428597Z",
     "iopub.status.idle": "2020-11-28T10:25:56.442949Z",
     "shell.execute_reply": "2020-11-28T10:25:56.442390Z"
    },
    "papermill": {
     "duration": 0.035648,
     "end_time": "2020-11-28T10:25:56.443065",
     "exception": false,
     "start_time": "2020-11-28T10:25:56.407417",
     "status": "completed"
    },
    "tags": []
   },
   "outputs": [
    {
     "name": "stdout",
     "output_type": "stream",
     "text": [
      "      const  OverallQual  YearBuilt  YearRemodAdd  TotalBsmtSF  1stFlrSF  \\\n",
      "0       1.0            7       2003          2003          856       856   \n",
      "1       1.0            6       1976          1976         1262      1262   \n",
      "2       1.0            7       2001          2002          920       920   \n",
      "3       1.0            7       1915          1970          756       961   \n",
      "4       1.0            8       2000          2000         1145      1145   \n",
      "...     ...          ...        ...           ...          ...       ...   \n",
      "1455    1.0            6       1999          2000          953       953   \n",
      "1456    1.0            6       1978          1988         1542      2073   \n",
      "1457    1.0            7       1941          2006         1152      1188   \n",
      "1458    1.0            5       1950          1996         1078      1078   \n",
      "1459    1.0            5       1965          1965         1256      1256   \n",
      "\n",
      "      GrLivArea  FullBath  TotRmsAbvGrd  GarageCars  GarageArea  \n",
      "0          1710         2             8           2         548  \n",
      "1          1262         2             6           2         460  \n",
      "2          1786         2             6           2         608  \n",
      "3          1717         1             7           3         642  \n",
      "4          2198         2             9           3         836  \n",
      "...         ...       ...           ...         ...         ...  \n",
      "1455       1647         2             7           2         460  \n",
      "1456       2073         2             7           2         500  \n",
      "1457       2340         2             9           1         252  \n",
      "1458       1078         1             5           1         240  \n",
      "1459       1256         1             6           1         276  \n",
      "\n",
      "[1460 rows x 11 columns]\n"
     ]
    }
   ],
   "source": [
    "endog = data['SalePrice']\n",
    "exog = sm.add_constant(data[['OverallQual','YearBuilt','YearRemodAdd','TotalBsmtSF','1stFlrSF','GrLivArea','FullBath','TotRmsAbvGrd','GarageCars','GarageArea']])\n",
    "print(exog)"
   ]
  },
  {
   "cell_type": "code",
   "execution_count": 5,
   "metadata": {
    "execution": {
     "iopub.execute_input": "2020-11-28T10:25:56.479013Z",
     "iopub.status.busy": "2020-11-28T10:25:56.478138Z",
     "iopub.status.idle": "2020-11-28T10:25:56.482356Z",
     "shell.execute_reply": "2020-11-28T10:25:56.481681Z"
    },
    "papermill": {
     "duration": 0.025107,
     "end_time": "2020-11-28T10:25:56.482539",
     "exception": false,
     "start_time": "2020-11-28T10:25:56.457432",
     "status": "completed"
    },
    "tags": []
   },
   "outputs": [
    {
     "name": "stdout",
     "output_type": "stream",
     "text": [
      "[[1.000e+00 7.000e+00 2.003e+03 ... 8.000e+00 2.000e+00 5.480e+02]\n",
      " [1.000e+00 6.000e+00 1.976e+03 ... 6.000e+00 2.000e+00 4.600e+02]\n",
      " [1.000e+00 7.000e+00 2.001e+03 ... 6.000e+00 2.000e+00 6.080e+02]\n",
      " ...\n",
      " [1.000e+00 7.000e+00 1.941e+03 ... 9.000e+00 1.000e+00 2.520e+02]\n",
      " [1.000e+00 5.000e+00 1.950e+03 ... 5.000e+00 1.000e+00 2.400e+02]\n",
      " [1.000e+00 5.000e+00 1.965e+03 ... 6.000e+00 1.000e+00 2.760e+02]]\n"
     ]
    }
   ],
   "source": [
    "X = exog.to_numpy()\n",
    "Y = endog.to_numpy()\n",
    "print(X)"
   ]
  },
  {
   "cell_type": "code",
   "execution_count": 6,
   "metadata": {
    "execution": {
     "iopub.execute_input": "2020-11-28T10:25:56.520037Z",
     "iopub.status.busy": "2020-11-28T10:25:56.519012Z",
     "iopub.status.idle": "2020-11-28T10:25:56.522085Z",
     "shell.execute_reply": "2020-11-28T10:25:56.522549Z"
    },
    "papermill": {
     "duration": 0.02377,
     "end_time": "2020-11-28T10:25:56.522706",
     "exception": false,
     "start_time": "2020-11-28T10:25:56.498936",
     "status": "completed"
    },
    "tags": []
   },
   "outputs": [],
   "source": [
    "from numpy import array\n",
    "from numpy import mean\n",
    "from numpy import cov\n",
    "from numpy.linalg import eig"
   ]
  },
  {
   "cell_type": "code",
   "execution_count": 7,
   "metadata": {
    "execution": {
     "iopub.execute_input": "2020-11-28T10:25:56.558727Z",
     "iopub.status.busy": "2020-11-28T10:25:56.557860Z",
     "iopub.status.idle": "2020-11-28T10:25:56.561540Z",
     "shell.execute_reply": "2020-11-28T10:25:56.560907Z"
    },
    "papermill": {
     "duration": 0.023838,
     "end_time": "2020-11-28T10:25:56.561678",
     "exception": false,
     "start_time": "2020-11-28T10:25:56.537840",
     "status": "completed"
    },
    "tags": []
   },
   "outputs": [
    {
     "name": "stdout",
     "output_type": "stream",
     "text": [
      "[1.00000000e+00 6.09931507e+00 1.97126781e+03 1.98486575e+03\n",
      " 1.05742945e+03 1.16262671e+03 1.51546370e+03 1.56506849e+00\n",
      " 6.51780822e+00 1.76712329e+00 4.72980137e+02]\n"
     ]
    }
   ],
   "source": [
    "M = mean(X.T, axis=1)\n",
    "print(M)\n"
   ]
  },
  {
   "cell_type": "code",
   "execution_count": 8,
   "metadata": {
    "execution": {
     "iopub.execute_input": "2020-11-28T10:25:56.599152Z",
     "iopub.status.busy": "2020-11-28T10:25:56.598398Z",
     "iopub.status.idle": "2020-11-28T10:25:56.602851Z",
     "shell.execute_reply": "2020-11-28T10:25:56.602304Z"
    },
    "papermill": {
     "duration": 0.025875,
     "end_time": "2020-11-28T10:25:56.602968",
     "exception": false,
     "start_time": "2020-11-28T10:25:56.577093",
     "status": "completed"
    },
    "tags": []
   },
   "outputs": [
    {
     "name": "stdout",
     "output_type": "stream",
     "text": [
      "[[ 0.00000000e+00  9.00684932e-01  3.17321918e+01 ...  1.48219178e+00\n",
      "   2.32876712e-01  7.50198630e+01]\n",
      " [ 0.00000000e+00 -9.93150685e-02  4.73219178e+00 ... -5.17808219e-01\n",
      "   2.32876712e-01 -1.29801370e+01]\n",
      " [ 0.00000000e+00  9.00684932e-01  2.97321918e+01 ... -5.17808219e-01\n",
      "   2.32876712e-01  1.35019863e+02]\n",
      " ...\n",
      " [ 0.00000000e+00  9.00684932e-01 -3.02678082e+01 ...  2.48219178e+00\n",
      "  -7.67123288e-01 -2.20980137e+02]\n",
      " [ 0.00000000e+00 -1.09931507e+00 -2.12678082e+01 ... -1.51780822e+00\n",
      "  -7.67123288e-01 -2.32980137e+02]\n",
      " [ 0.00000000e+00 -1.09931507e+00 -6.26780822e+00 ... -5.17808219e-01\n",
      "  -7.67123288e-01 -1.96980137e+02]]\n"
     ]
    }
   ],
   "source": [
    "C= X-M\n",
    "print(C)"
   ]
  },
  {
   "cell_type": "code",
   "execution_count": 9,
   "metadata": {
    "execution": {
     "iopub.execute_input": "2020-11-28T10:25:56.641106Z",
     "iopub.status.busy": "2020-11-28T10:25:56.640319Z",
     "iopub.status.idle": "2020-11-28T10:25:56.681565Z",
     "shell.execute_reply": "2020-11-28T10:25:56.680861Z"
    },
    "papermill": {
     "duration": 0.06276,
     "end_time": "2020-11-28T10:25:56.681694",
     "exception": false,
     "start_time": "2020-11-28T10:25:56.618934",
     "status": "completed"
    },
    "tags": []
   },
   "outputs": [
    {
     "name": "stdout",
     "output_type": "stream",
     "text": [
      "[[0.00000000e+00 0.00000000e+00 0.00000000e+00 0.00000000e+00\n",
      "  0.00000000e+00 0.00000000e+00 0.00000000e+00 0.00000000e+00\n",
      "  0.00000000e+00 0.00000000e+00 0.00000000e+00]\n",
      " [0.00000000e+00 1.91267945e+00 2.39062151e+01 1.57234172e+01\n",
      "  3.26303447e+02 2.54612835e+02 4.30960770e+02 4.19509985e-01\n",
      "  9.60875811e-01 6.20813655e-01 1.66184976e+02]\n",
      " [0.00000000e+00 2.39062151e+01 9.12215413e+02 3.69675456e+02\n",
      "  5.18680746e+03 3.29248729e+03 3.15848985e+03 7.79167801e+00\n",
      "  4.69262302e+00 1.21398594e+01 3.09285728e+03]\n",
      " [0.00000000e+00 1.57234172e+01 3.69675456e+02 4.26232822e+02\n",
      "  2.63625372e+03 1.91852970e+03 3.11780801e+03 4.99366239e+00\n",
      "  6.43419494e+00 6.48962040e+00 1.64027423e+03]\n",
      " [0.00000000e+00 3.26303447e+02 5.18680746e+03 2.63625372e+03\n",
      "  1.92462362e+05 1.38990726e+05 1.04861241e+05 7.82403715e+01\n",
      "  2.03632854e+02 1.42479105e+02 4.56479174e+04]\n",
      " [0.00000000e+00 2.54612835e+02 3.29248729e+03 1.91852970e+03\n",
      "  1.38990726e+05 1.49450079e+05 1.14984528e+05 8.10671435e+01\n",
      "  2.57322279e+02 1.26919864e+02 4.04825745e+04]\n",
      " [0.00000000e+00 4.30960770e+02 3.15848985e+03 3.11780801e+03\n",
      "  1.04861241e+05 1.14984528e+05 2.76129633e+05 1.82385503e+02\n",
      "  7.05060619e+02 1.83487771e+02 5.26919839e+04]\n",
      " [0.00000000e+00 4.19509985e-01 7.79167801e+00 4.99366239e+00\n",
      "  7.82403715e+01 8.10671435e+01 1.82385503e+02 3.03508220e-01\n",
      "  4.96784249e-01 1.93367572e-01 4.77816223e+01]\n",
      " [0.00000000e+00 9.60875811e-01 4.69262302e+00 6.43419494e+00\n",
      "  2.03632854e+02 2.57322279e+02 7.05060619e+02 4.96784249e-01\n",
      "  2.64190335e+00 4.40064972e-01 1.17398915e+02]\n",
      " [0.00000000e+00 6.20813655e-01 1.21398594e+01 6.48962040e+00\n",
      "  1.42479105e+02 1.26919864e+02 1.83487771e+02 1.93367572e-01\n",
      "  4.40064972e-01 5.58479724e-01 1.41001540e+02]\n",
      " [0.00000000e+00 1.66184976e+02 3.09285728e+03 1.64027423e+03\n",
      "  4.56479174e+04 4.04825745e+04 5.26919839e+04 4.77816223e+01\n",
      "  1.17398915e+02 1.41001540e+02 4.57125102e+04]]\n"
     ]
    }
   ],
   "source": [
    "V = cov(C.T)\n",
    "print(V)"
   ]
  },
  {
   "cell_type": "code",
   "execution_count": 10,
   "metadata": {
    "execution": {
     "iopub.execute_input": "2020-11-28T10:25:56.720106Z",
     "iopub.status.busy": "2020-11-28T10:25:56.719261Z",
     "iopub.status.idle": "2020-11-28T10:25:56.779001Z",
     "shell.execute_reply": "2020-11-28T10:25:56.778145Z"
    },
    "papermill": {
     "duration": 0.080862,
     "end_time": "2020-11-28T10:25:56.779169",
     "exception": false,
     "start_time": "2020-11-28T10:25:56.698307",
     "status": "completed"
    },
    "tags": []
   },
   "outputs": [
    {
     "name": "stdout",
     "output_type": "stream",
     "text": [
      "[[ 0.00000000e+00  0.00000000e+00  0.00000000e+00  0.00000000e+00\n",
      "   0.00000000e+00  0.00000000e+00  0.00000000e+00  0.00000000e+00\n",
      "   0.00000000e+00  0.00000000e+00  1.00000000e+00]\n",
      " [ 1.32309022e-03 -2.86762468e-04 -2.11894520e-03  6.24534722e-04\n",
      "  -1.66426437e-02  6.03496628e-03 -2.61687225e-01 -9.62467532e-01\n",
      "  -5.27212265e-02 -4.55676164e-02  0.00000000e+00]\n",
      " [ 1.52409619e-02  1.31957536e-02 -6.50544807e-02  1.54671102e-03\n",
      "  -8.70673043e-01 -4.86925523e-01  4.10417118e-03  1.14142421e-02\n",
      "  -1.03327713e-03 -6.54971421e-03  0.00000000e+00]\n",
      " [ 1.01628827e-02 -6.83758684e-04 -2.89161095e-02  2.10194900e-03\n",
      "  -4.85892944e-01  8.73368414e-01  4.22133181e-03  1.29112842e-02\n",
      "   3.78804486e-04 -2.58544498e-03  0.00000000e+00]\n",
      " [ 5.37012381e-01  5.85223345e-01 -1.43879630e-01  5.89600870e-01\n",
      "   2.80517225e-02  3.62141122e-03  5.97797169e-04  6.25062976e-04\n",
      "   7.28169880e-05  1.95699785e-04  0.00000000e+00]\n",
      " [ 4.98556766e-01  3.32960986e-01  4.19608206e-01 -6.81293499e-01\n",
      "  -1.85990289e-02 -3.49235495e-04 -1.88626815e-04 -4.04098388e-04\n",
      "  -2.65213641e-06 -1.00978640e-04  0.00000000e+00]\n",
      " [ 6.53530253e-01 -7.39111203e-01  5.75490644e-02  1.52471256e-01\n",
      "  -4.04627232e-05 -6.68223938e-03 -2.39645349e-03  1.70810401e-03\n",
      "   1.68066060e-04 -3.39684197e-04  0.00000000e+00]\n",
      " [ 4.53021929e-04 -4.36799190e-04 -3.23457245e-04 -2.44988132e-05\n",
      "  -6.83323482e-03 -4.90915891e-04  6.21004896e-02 -4.58992075e-02\n",
      "  -2.92089021e-01  9.53243600e-01  0.00000000e+00]\n",
      " [ 1.54875626e-03 -2.24279325e-03  4.56011295e-04  1.66661579e-04\n",
      "   1.80905467e-03 -8.53682789e-05  9.62835906e-01 -2.56935645e-01\n",
      "  -1.91494293e-02 -8.09533593e-02  0.00000000e+00]\n",
      " [ 6.15805887e-04 -5.63322872e-05 -2.69773728e-03 -1.15134856e-03\n",
      "  -3.54459694e-03 -6.74835392e-04  2.38638548e-02 -7.23340140e-02\n",
      "   9.54740665e-01  2.87483156e-01  0.00000000e+00]\n",
      " [ 1.88724025e-01  1.36141451e-02 -8.91535419e-01 -4.06145225e-01\n",
      "   6.60618437e-02  6.01128883e-03  2.43362856e-04  9.59183712e-04\n",
      "  -2.60655048e-03 -6.88111594e-04  0.00000000e+00]]\n"
     ]
    }
   ],
   "source": [
    "values, vectors = eig(V)\n",
    "print(vectors)\n"
   ]
  },
  {
   "cell_type": "code",
   "execution_count": 11,
   "metadata": {
    "execution": {
     "iopub.execute_input": "2020-11-28T10:25:56.840984Z",
     "iopub.status.busy": "2020-11-28T10:25:56.839921Z",
     "iopub.status.idle": "2020-11-28T10:25:56.843576Z",
     "shell.execute_reply": "2020-11-28T10:25:56.844309Z"
    },
    "papermill": {
     "duration": 0.040112,
     "end_time": "2020-11-28T10:25:56.844531",
     "exception": false,
     "start_time": "2020-11-28T10:25:56.804419",
     "status": "completed"
    },
    "tags": []
   },
   "outputs": [
    {
     "name": "stdout",
     "output_type": "stream",
     "text": [
      "[4.65354269e+05 1.40280365e+05 3.09042816e+04 2.75521556e+04\n",
      " 7.87776591e+02 2.17828512e+02 8.22738000e-01 7.05952218e-01\n",
      " 1.03513860e-01 1.40492602e-01 0.00000000e+00]\n"
     ]
    }
   ],
   "source": [
    "print(values)"
   ]
  },
  {
   "cell_type": "markdown",
   "metadata": {
    "papermill": {
     "duration": 0.022792,
     "end_time": "2020-11-28T10:25:56.895772",
     "exception": false,
     "start_time": "2020-11-28T10:25:56.872980",
     "status": "completed"
    },
    "tags": []
   },
   "source": [
    "### Project Data"
   ]
  },
  {
   "cell_type": "code",
   "execution_count": 12,
   "metadata": {
    "execution": {
     "iopub.execute_input": "2020-11-28T10:25:56.950187Z",
     "iopub.status.busy": "2020-11-28T10:25:56.949225Z",
     "iopub.status.idle": "2020-11-28T10:25:56.954042Z",
     "shell.execute_reply": "2020-11-28T10:25:56.953306Z"
    },
    "papermill": {
     "duration": 0.03041,
     "end_time": "2020-11-28T10:25:56.954166",
     "exception": false,
     "start_time": "2020-11-28T10:25:56.923756",
     "status": "completed"
    },
    "tags": []
   },
   "outputs": [
    {
     "name": "stdout",
     "output_type": "stream",
     "text": [
      "[[-1.19075770e+02 -3.62336034e+02 -1.57959667e+02 ... -1.83191386e-01\n",
      "  -6.03684431e-02  0.00000000e+00]\n",
      " [-8.71428838e+00  3.40037528e+02  9.19768365e+00 ...  1.08069237e-01\n",
      "   6.44944316e-01  0.00000000e+00]\n",
      " [ 8.14865413e+00 -3.58949061e+02 -1.89273322e+02 ... -2.82334236e-01\n",
      "   5.61826076e-02  0.00000000e+00]\n",
      " ...\n",
      " [ 5.60348971e+02 -5.49059096e+02  2.42862065e+02 ... -1.93788005e-01\n",
      "  -1.63967966e-02  0.00000000e+00]\n",
      " [-3.61224812e+02  3.03739218e+02  1.45130168e+02 ...  8.13361628e-02\n",
      "  -1.54220042e-01  0.00000000e+00]\n",
      " [-5.38559397e+01  3.36321234e+02  1.72279352e+02 ... -1.64860776e-02\n",
      "  -3.21645761e-01  0.00000000e+00]]\n"
     ]
    }
   ],
   "source": [
    "\n",
    "P = vectors.T.dot(C.T)\n",
    "print(P.T)"
   ]
  },
  {
   "cell_type": "code",
   "execution_count": 13,
   "metadata": {
    "execution": {
     "iopub.execute_input": "2020-11-28T10:25:56.995995Z",
     "iopub.status.busy": "2020-11-28T10:25:56.995296Z",
     "iopub.status.idle": "2020-11-28T10:25:57.367782Z",
     "shell.execute_reply": "2020-11-28T10:25:57.367117Z"
    },
    "papermill": {
     "duration": 0.395803,
     "end_time": "2020-11-28T10:25:57.367953",
     "exception": false,
     "start_time": "2020-11-28T10:25:56.972150",
     "status": "completed"
    },
    "tags": []
   },
   "outputs": [],
   "source": [
    "from sklearn.decomposition import PCA\n",
    "pca = PCA(n_components=1)\n",
    "principalComponents = pca.fit_transform(X)\n",
    "principalDf = pd.DataFrame(data = principalComponents\n",
    "             , columns = ['principal component 1'])"
   ]
  },
  {
   "cell_type": "code",
   "execution_count": 14,
   "metadata": {
    "execution": {
     "iopub.execute_input": "2020-11-28T10:25:57.415290Z",
     "iopub.status.busy": "2020-11-28T10:25:57.414311Z",
     "iopub.status.idle": "2020-11-28T10:25:57.419670Z",
     "shell.execute_reply": "2020-11-28T10:25:57.419034Z"
    },
    "papermill": {
     "duration": 0.03387,
     "end_time": "2020-11-28T10:25:57.419782",
     "exception": false,
     "start_time": "2020-11-28T10:25:57.385912",
     "status": "completed"
    },
    "tags": []
   },
   "outputs": [
    {
     "name": "stdout",
     "output_type": "stream",
     "text": [
      "      const  principal component 1\n",
      "0       1.0            -119.075770\n",
      "1       1.0              -8.714288\n",
      "2       1.0               8.148654\n",
      "3       1.0             -99.791743\n",
      "4       1.0             553.406273\n",
      "...     ...                    ...\n",
      "1455    1.0             -76.500007\n",
      "1456    1.0            1083.694697\n",
      "1457    1.0             560.348971\n",
      "1458    1.0            -361.224812\n",
      "1459    1.0             -53.855940\n",
      "\n",
      "[1460 rows x 2 columns]\n"
     ]
    }
   ],
   "source": [
    "exog1 = sm.add_constant(principalDf[['principal component 1']])\n",
    "print(exog1)\n"
   ]
  },
  {
   "cell_type": "code",
   "execution_count": 15,
   "metadata": {
    "execution": {
     "iopub.execute_input": "2020-11-28T10:25:57.467203Z",
     "iopub.status.busy": "2020-11-28T10:25:57.466270Z",
     "iopub.status.idle": "2020-11-28T10:25:57.470619Z",
     "shell.execute_reply": "2020-11-28T10:25:57.469824Z"
    },
    "papermill": {
     "duration": 0.032925,
     "end_time": "2020-11-28T10:25:57.470766",
     "exception": false,
     "start_time": "2020-11-28T10:25:57.437841",
     "status": "completed"
    },
    "tags": []
   },
   "outputs": [
    {
     "data": {
      "text/plain": [
       "array([ 0.        , 90.50964636])"
      ]
     },
     "execution_count": 15,
     "metadata": {},
     "output_type": "execute_result"
    }
   ],
   "source": [
    "from sklearn import linear_model\n",
    "lm = linear_model.LinearRegression()\n",
    "model = lm.fit(exog1,endog)\n",
    "lm.coef_"
   ]
  },
  {
   "cell_type": "code",
   "execution_count": 16,
   "metadata": {
    "execution": {
     "iopub.execute_input": "2020-11-28T10:25:57.518246Z",
     "iopub.status.busy": "2020-11-28T10:25:57.517108Z",
     "iopub.status.idle": "2020-11-28T10:25:57.521991Z",
     "shell.execute_reply": "2020-11-28T10:25:57.521303Z"
    },
    "papermill": {
     "duration": 0.028237,
     "end_time": "2020-11-28T10:25:57.522137",
     "exception": false,
     "start_time": "2020-11-28T10:25:57.493900",
     "status": "completed"
    },
    "tags": []
   },
   "outputs": [
    {
     "data": {
      "text/plain": [
       "180921.19589041095"
      ]
     },
     "execution_count": 16,
     "metadata": {},
     "output_type": "execute_result"
    }
   ],
   "source": [
    "lm.intercept_"
   ]
  },
  {
   "cell_type": "code",
   "execution_count": 17,
   "metadata": {
    "execution": {
     "iopub.execute_input": "2020-11-28T10:25:57.570482Z",
     "iopub.status.busy": "2020-11-28T10:25:57.569765Z",
     "iopub.status.idle": "2020-11-28T10:25:57.573185Z",
     "shell.execute_reply": "2020-11-28T10:25:57.572436Z"
    },
    "papermill": {
     "duration": 0.028491,
     "end_time": "2020-11-28T10:25:57.573337",
     "exception": false,
     "start_time": "2020-11-28T10:25:57.544846",
     "status": "completed"
    },
    "tags": []
   },
   "outputs": [],
   "source": [
    "def RSE(y_true, y_predicted):\n",
    "   \n",
    "    y_true = np.array(y_true)\n",
    "    y_predicted = np.array(y_predicted)\n",
    "    RSS = np.sum(np.square(y_true - y_predicted))\n",
    "\n",
    "    rse = math.sqrt(RSS / (len(y_true) - 2))\n",
    "    return rse"
   ]
  },
  {
   "cell_type": "code",
   "execution_count": 18,
   "metadata": {
    "execution": {
     "iopub.execute_input": "2020-11-28T10:25:57.624278Z",
     "iopub.status.busy": "2020-11-28T10:25:57.623353Z",
     "iopub.status.idle": "2020-11-28T10:25:57.626862Z",
     "shell.execute_reply": "2020-11-28T10:25:57.626174Z"
    },
    "papermill": {
     "duration": 0.030618,
     "end_time": "2020-11-28T10:25:57.627018",
     "exception": false,
     "start_time": "2020-11-28T10:25:57.596400",
     "status": "completed"
    },
    "tags": []
   },
   "outputs": [],
   "source": [
    "ypred =lm.predict(exog1)"
   ]
  },
  {
   "cell_type": "code",
   "execution_count": 19,
   "metadata": {
    "execution": {
     "iopub.execute_input": "2020-11-28T10:25:57.677781Z",
     "iopub.status.busy": "2020-11-28T10:25:57.676864Z",
     "iopub.status.idle": "2020-11-28T10:25:57.681259Z",
     "shell.execute_reply": "2020-11-28T10:25:57.680626Z"
    },
    "papermill": {
     "duration": 0.028828,
     "end_time": "2020-11-28T10:25:57.681369",
     "exception": false,
     "start_time": "2020-11-28T10:25:57.652541",
     "status": "completed"
    },
    "tags": []
   },
   "outputs": [
    {
     "name": "stdout",
     "output_type": "stream",
     "text": [
      "50006.44817013513\n"
     ]
    }
   ],
   "source": [
    "re = RSE(endog,ypred)\n",
    "print(re)"
   ]
  },
  {
   "cell_type": "markdown",
   "metadata": {
    "papermill": {
     "duration": 0.019525,
     "end_time": "2020-11-28T10:25:57.720966",
     "exception": false,
     "start_time": "2020-11-28T10:25:57.701441",
     "status": "completed"
    },
    "tags": []
   },
   "source": [
    "### I hope you liked my Notebook"
   ]
  }
 ],
 "metadata": {
  "kernelspec": {
   "display_name": "Python 3",
   "language": "python",
   "name": "python3"
  },
  "language_info": {
   "codemirror_mode": {
    "name": "ipython",
    "version": 3
   },
   "file_extension": ".py",
   "mimetype": "text/x-python",
   "name": "python",
   "nbconvert_exporter": "python",
   "pygments_lexer": "ipython3",
   "version": "3.7.6"
  },
  "papermill": {
   "duration": 9.121065,
   "end_time": "2020-11-28T10:25:58.760425",
   "environment_variables": {},
   "exception": null,
   "input_path": "__notebook__.ipynb",
   "output_path": "__notebook__.ipynb",
   "parameters": {},
   "start_time": "2020-11-28T10:25:49.639360",
   "version": "2.1.0"
  }
 },
 "nbformat": 4,
 "nbformat_minor": 4
}
