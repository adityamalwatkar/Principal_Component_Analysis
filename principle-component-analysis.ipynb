{
 "cells": [
  {
   "cell_type": "markdown",
   "metadata": {
    "_cell_guid": "b1076dfc-b9ad-4769-8c92-a6c4dae69d19",
    "_uuid": "8f2839f25d086af736a60e9eeb907d3b93b6e0e5",
    "papermill": {
     "duration": 0.020417,
     "end_time": "2020-11-28T10:25:46.150737",
     "exception": false,
     "start_time": "2020-11-28T10:25:46.130320",
     "status": "completed"
    },
    "tags": []
   },
   "source": [
    "# Principle Component Analysis"
   ]
  },
  {
   "cell_type": "markdown",
   "metadata": {
    "papermill": {
     "duration": 0.016509,
     "end_time": "2020-11-28T10:25:46.184366",
     "exception": false,
     "start_time": "2020-11-28T10:25:46.167857",
     "status": "completed"
    },
    "tags": []
   },
   "source": [
    "### Importing Libraries"
   ]
  },
  {
   "cell_type": "code",
   "execution_count": 1,
   "metadata": {
    "execution": {
     "iopub.execute_input": "2020-11-28T10:25:46.224799Z",
     "iopub.status.busy": "2020-11-28T10:25:46.223877Z",
     "iopub.status.idle": "2020-11-28T10:25:46.228030Z",
     "shell.execute_reply": "2020-11-28T10:25:46.227145Z"
    },
    "papermill": {
     "duration": 0.027046,
     "end_time": "2020-11-28T10:25:46.228192",
     "exception": false,
     "start_time": "2020-11-28T10:25:46.201146",
     "status": "completed"
    },
    "tags": []
   },
   "outputs": [],
   "source": [
    "import numpy as np\n",
    "import pandas as pd\n",
    "from numpy.linalg import eig"
   ]
  },
  {
   "cell_type": "markdown",
   "metadata": {
    "papermill": {
     "duration": 0.016875,
     "end_time": "2020-11-28T10:25:46.262314",
     "exception": false,
     "start_time": "2020-11-28T10:25:46.245439",
     "status": "completed"
    },
    "tags": []
   },
   "source": [
    "### Define a Matrix"
   ]
  },
  {
   "cell_type": "code",
   "execution_count": 2,
   "metadata": {
    "execution": {
     "iopub.execute_input": "2020-11-28T10:25:46.308017Z",
     "iopub.status.busy": "2020-11-28T10:25:46.306742Z",
     "iopub.status.idle": "2020-11-28T10:25:46.310918Z",
     "shell.execute_reply": "2020-11-28T10:25:46.311631Z"
    },
    "papermill": {
     "duration": 0.03251,
     "end_time": "2020-11-28T10:25:46.311815",
     "exception": false,
     "start_time": "2020-11-28T10:25:46.279305",
     "status": "completed"
    },
    "tags": []
   },
   "outputs": [
    {
     "name": "stdout",
     "output_type": "stream",
     "text": [
      "[[1 2 3 4]\n",
      " [5 5 4 7]\n",
      " [1 5 2 3]\n",
      " [5 2 1 1]\n",
      " [8 3 2 2]]\n"
     ]
    }
   ],
   "source": [
    "A = np.array([[1,2,3,4],\n",
    "           [5,5,4,7],\n",
    "           [1,5,2,3],\n",
    "           [5,2,1,1],\n",
    "           [8,3,2,2]])\n",
    "\n",
    "print(A)"
   ]
  },
  {
   "cell_type": "code",
   "execution_count": 3,
   "metadata": {
    "execution": {
     "iopub.execute_input": "2020-11-28T10:25:46.369185Z",
     "iopub.status.busy": "2020-11-28T10:25:46.361471Z",
     "iopub.status.idle": "2020-11-28T10:25:46.381416Z",
     "shell.execute_reply": "2020-11-28T10:25:46.380656Z"
    },
    "papermill": {
     "duration": 0.050205,
     "end_time": "2020-11-28T10:25:46.381540",
     "exception": false,
     "start_time": "2020-11-28T10:25:46.331335",
     "status": "completed"
    },
    "tags": []
   },
   "outputs": [
    {
     "data": {
      "text/html": [
       "<div>\n",
       "<style scoped>\n",
       "    .dataframe tbody tr th:only-of-type {\n",
       "        vertical-align: middle;\n",
       "    }\n",
       "\n",
       "    .dataframe tbody tr th {\n",
       "        vertical-align: top;\n",
       "    }\n",
       "\n",
       "    .dataframe thead th {\n",
       "        text-align: right;\n",
       "    }\n",
       "</style>\n",
       "<table border=\"1\" class=\"dataframe\">\n",
       "  <thead>\n",
       "    <tr style=\"text-align: right;\">\n",
       "      <th></th>\n",
       "      <th>f1</th>\n",
       "      <th>f2</th>\n",
       "      <th>f3</th>\n",
       "      <th>f4</th>\n",
       "    </tr>\n",
       "  </thead>\n",
       "  <tbody>\n",
       "    <tr>\n",
       "      <th>0</th>\n",
       "      <td>1</td>\n",
       "      <td>2</td>\n",
       "      <td>3</td>\n",
       "      <td>4</td>\n",
       "    </tr>\n",
       "    <tr>\n",
       "      <th>1</th>\n",
       "      <td>5</td>\n",
       "      <td>5</td>\n",
       "      <td>4</td>\n",
       "      <td>7</td>\n",
       "    </tr>\n",
       "    <tr>\n",
       "      <th>2</th>\n",
       "      <td>1</td>\n",
       "      <td>5</td>\n",
       "      <td>2</td>\n",
       "      <td>3</td>\n",
       "    </tr>\n",
       "    <tr>\n",
       "      <th>3</th>\n",
       "      <td>5</td>\n",
       "      <td>2</td>\n",
       "      <td>1</td>\n",
       "      <td>1</td>\n",
       "    </tr>\n",
       "    <tr>\n",
       "      <th>4</th>\n",
       "      <td>8</td>\n",
       "      <td>3</td>\n",
       "      <td>2</td>\n",
       "      <td>2</td>\n",
       "    </tr>\n",
       "  </tbody>\n",
       "</table>\n",
       "</div>"
      ],
      "text/plain": [
       "   f1  f2  f3  f4\n",
       "0   1   2   3   4\n",
       "1   5   5   4   7\n",
       "2   1   5   2   3\n",
       "3   5   2   1   1\n",
       "4   8   3   2   2"
      ]
     },
     "execution_count": 3,
     "metadata": {},
     "output_type": "execute_result"
    }
   ],
   "source": [
    "data = pd.DataFrame(A,columns  = ['f1','f2','f3','f4'])\n",
    "data"
   ]
  },
  {
   "cell_type": "markdown",
   "metadata": {
    "papermill": {
     "duration": 0.018367,
     "end_time": "2020-11-28T10:25:46.418053",
     "exception": false,
     "start_time": "2020-11-28T10:25:46.399686",
     "status": "completed"
    },
    "tags": []
   },
   "source": [
    "### Standardized the dataset"
   ]
  },
  {
   "cell_type": "code",
   "execution_count": 4,
   "metadata": {
    "_cell_guid": "79c7e3d0-c299-4dcb-8224-4455121ee9b0",
    "_uuid": "d629ff2d2480ee46fbb7e2d37f6b5fab8052498a",
    "execution": {
     "iopub.execute_input": "2020-11-28T10:25:46.461376Z",
     "iopub.status.busy": "2020-11-28T10:25:46.460598Z",
     "iopub.status.idle": "2020-11-28T10:25:46.504804Z",
     "shell.execute_reply": "2020-11-28T10:25:46.504088Z"
    },
    "papermill": {
     "duration": 0.068571,
     "end_time": "2020-11-28T10:25:46.504927",
     "exception": false,
     "start_time": "2020-11-28T10:25:46.436356",
     "status": "completed"
    },
    "tags": []
   },
   "outputs": [
    {
     "data": {
      "text/html": [
       "<div>\n",
       "<style scoped>\n",
       "    .dataframe tbody tr th:only-of-type {\n",
       "        vertical-align: middle;\n",
       "    }\n",
       "\n",
       "    .dataframe tbody tr th {\n",
       "        vertical-align: top;\n",
       "    }\n",
       "\n",
       "    .dataframe thead th {\n",
       "        text-align: right;\n",
       "    }\n",
       "</style>\n",
       "<table border=\"1\" class=\"dataframe\">\n",
       "  <thead>\n",
       "    <tr style=\"text-align: right;\">\n",
       "      <th></th>\n",
       "      <th>f1</th>\n",
       "      <th>f2</th>\n",
       "      <th>f3</th>\n",
       "      <th>f4</th>\n",
       "    </tr>\n",
       "  </thead>\n",
       "  <tbody>\n",
       "    <tr>\n",
       "      <th>0</th>\n",
       "      <td>-1.000000</td>\n",
       "      <td>-0.923133</td>\n",
       "      <td>0.526235</td>\n",
       "      <td>0.260623</td>\n",
       "    </tr>\n",
       "    <tr>\n",
       "      <th>1</th>\n",
       "      <td>0.333333</td>\n",
       "      <td>1.055009</td>\n",
       "      <td>1.403293</td>\n",
       "      <td>1.563740</td>\n",
       "    </tr>\n",
       "    <tr>\n",
       "      <th>2</th>\n",
       "      <td>-1.000000</td>\n",
       "      <td>1.055009</td>\n",
       "      <td>-0.350823</td>\n",
       "      <td>-0.173749</td>\n",
       "    </tr>\n",
       "    <tr>\n",
       "      <th>3</th>\n",
       "      <td>0.333333</td>\n",
       "      <td>-0.923133</td>\n",
       "      <td>-1.227881</td>\n",
       "      <td>-1.042493</td>\n",
       "    </tr>\n",
       "    <tr>\n",
       "      <th>4</th>\n",
       "      <td>1.333333</td>\n",
       "      <td>-0.263752</td>\n",
       "      <td>-0.350823</td>\n",
       "      <td>-0.608121</td>\n",
       "    </tr>\n",
       "  </tbody>\n",
       "</table>\n",
       "</div>"
      ],
      "text/plain": [
       "         f1        f2        f3        f4\n",
       "0 -1.000000 -0.923133  0.526235  0.260623\n",
       "1  0.333333  1.055009  1.403293  1.563740\n",
       "2 -1.000000  1.055009 -0.350823 -0.173749\n",
       "3  0.333333 -0.923133 -1.227881 -1.042493\n",
       "4  1.333333 -0.263752 -0.350823 -0.608121"
      ]
     },
     "execution_count": 4,
     "metadata": {},
     "output_type": "execute_result"
    }
   ],
   "source": [
    "std_data  = (data - data.mean()) / (data.std())\n",
    "std_data"
   ]
  },
  {
   "cell_type": "markdown",
   "metadata": {
    "papermill": {
     "duration": 0.019592,
     "end_time": "2020-11-28T10:25:46.543991",
     "exception": false,
     "start_time": "2020-11-28T10:25:46.524399",
     "status": "completed"
    },
    "tags": []
   },
   "source": [
    "### Find the covariance matrix for the given dataset"
   ]
  },
  {
   "cell_type": "markdown",
   "metadata": {
    "papermill": {
     "duration": 0.018965,
     "end_time": "2020-11-28T10:25:46.582992",
     "exception": false,
     "start_time": "2020-11-28T10:25:46.564027",
     "status": "completed"
    },
    "tags": []
   },
   "source": [
    "There are **2 methods** for this:\n",
    "1. Sample Formula\n",
    "2. Population Formula\n",
    "\n",
    "We can use any of the formula,"
   ]
  },
  {
   "cell_type": "markdown",
   "metadata": {
    "papermill": {
     "duration": 0.018649,
     "end_time": "2020-11-28T10:25:46.620570",
     "exception": false,
     "start_time": "2020-11-28T10:25:46.601921",
     "status": "completed"
    },
    "tags": []
   },
   "source": [
    "### 1. Covariance sample formula (divide by N-1 )"
   ]
  },
  {
   "cell_type": "code",
   "execution_count": 5,
   "metadata": {
    "execution": {
     "iopub.execute_input": "2020-11-28T10:25:46.667358Z",
     "iopub.status.busy": "2020-11-28T10:25:46.666460Z",
     "iopub.status.idle": "2020-11-28T10:25:46.717230Z",
     "shell.execute_reply": "2020-11-28T10:25:46.715901Z"
    },
    "papermill": {
     "duration": 0.077799,
     "end_time": "2020-11-28T10:25:46.717417",
     "exception": false,
     "start_time": "2020-11-28T10:25:46.639618",
     "status": "completed"
    },
    "tags": []
   },
   "outputs": [
    {
     "name": "stdout",
     "output_type": "stream",
     "text": [
      "[[ 1.         -0.10989675 -0.14617634 -0.18098843]\n",
      " [-0.10989675  1.          0.46265195  0.58715398]\n",
      " [-0.14617634  0.46265195  1.          0.97147263]\n",
      " [-0.18098843  0.58715398  0.97147263  1.        ]]\n"
     ]
    }
   ],
   "source": [
    "V = np.cov(std_data.T , bias = 0)\n",
    "print(V)"
   ]
  },
  {
   "cell_type": "markdown",
   "metadata": {
    "papermill": {
     "duration": 0.01932,
     "end_time": "2020-11-28T10:25:46.757724",
     "exception": false,
     "start_time": "2020-11-28T10:25:46.738404",
     "status": "completed"
    },
    "tags": []
   },
   "source": [
    "### 2. Covariance population formula (divide by N)"
   ]
  },
  {
   "cell_type": "code",
   "execution_count": 6,
   "metadata": {
    "execution": {
     "iopub.execute_input": "2020-11-28T10:25:46.804132Z",
     "iopub.status.busy": "2020-11-28T10:25:46.803281Z",
     "iopub.status.idle": "2020-11-28T10:25:46.808790Z",
     "shell.execute_reply": "2020-11-28T10:25:46.808038Z"
    },
    "papermill": {
     "duration": 0.031089,
     "end_time": "2020-11-28T10:25:46.808911",
     "exception": false,
     "start_time": "2020-11-28T10:25:46.777822",
     "status": "completed"
    },
    "tags": []
   },
   "outputs": [
    {
     "name": "stdout",
     "output_type": "stream",
     "text": [
      "[[ 0.8        -0.0879174  -0.11694107 -0.14479075]\n",
      " [-0.0879174   0.8         0.37012156  0.46972318]\n",
      " [-0.11694107  0.37012156  0.8         0.7771781 ]\n",
      " [-0.14479075  0.46972318  0.7771781   0.8       ]]\n"
     ]
    }
   ],
   "source": [
    "V1 = np.cov(std_data.T , bias = 1)\n",
    "print(V1)"
   ]
  },
  {
   "cell_type": "markdown",
   "metadata": {
    "papermill": {
     "duration": 0.019834,
     "end_time": "2020-11-28T10:25:46.848790",
     "exception": false,
     "start_time": "2020-11-28T10:25:46.828956",
     "status": "completed"
    },
    "tags": []
   },
   "source": [
    "### Calculate Eigenvalue and Eigen Vector"
   ]
  },
  {
   "cell_type": "code",
   "execution_count": 7,
   "metadata": {
    "execution": {
     "iopub.execute_input": "2020-11-28T10:25:46.941327Z",
     "iopub.status.busy": "2020-11-28T10:25:46.940196Z",
     "iopub.status.idle": "2020-11-28T10:25:46.945133Z",
     "shell.execute_reply": "2020-11-28T10:25:46.944510Z"
    },
    "papermill": {
     "duration": 0.076239,
     "end_time": "2020-11-28T10:25:46.945283",
     "exception": false,
     "start_time": "2020-11-28T10:25:46.869044",
     "status": "completed"
    },
    "tags": []
   },
   "outputs": [
    {
     "name": "stdout",
     "output_type": "stream",
     "text": [
      "[[ 0.17757819 -0.9833757   0.02266973  0.0304023 ]\n",
      " [-0.46755449 -0.11411183 -0.12370483 -0.86779514]\n",
      " [-0.59870266 -0.11010221 -0.66549306  0.43191621]\n",
      " [-0.62563081 -0.08847725  0.73573241  0.24383536]]\n"
     ]
    }
   ],
   "source": [
    "values, vectors = eig(V)\n",
    "print(vectors)\n"
   ]
  },
  {
   "cell_type": "code",
   "execution_count": 8,
   "metadata": {
    "execution": {
     "iopub.execute_input": "2020-11-28T10:25:46.997476Z",
     "iopub.status.busy": "2020-11-28T10:25:46.996504Z",
     "iopub.status.idle": "2020-11-28T10:25:47.001266Z",
     "shell.execute_reply": "2020-11-28T10:25:47.000552Z"
    },
    "papermill": {
     "duration": 0.033324,
     "end_time": "2020-11-28T10:25:47.001410",
     "exception": false,
     "start_time": "2020-11-28T10:25:46.968086",
     "status": "completed"
    },
    "tags": []
   },
   "outputs": [
    {
     "name": "stdout",
     "output_type": "stream",
     "text": [
      "[2.41982989 0.95459699 0.01697271 0.60860041]\n"
     ]
    }
   ],
   "source": [
    "print(values)"
   ]
  },
  {
   "cell_type": "markdown",
   "metadata": {
    "papermill": {
     "duration": 0.021204,
     "end_time": "2020-11-28T10:25:47.045771",
     "exception": false,
     "start_time": "2020-11-28T10:25:47.024567",
     "status": "completed"
    },
    "tags": []
   },
   "source": [
    "### Project Data"
   ]
  },
  {
   "cell_type": "code",
   "execution_count": 9,
   "metadata": {
    "execution": {
     "iopub.execute_input": "2020-11-28T10:25:47.096135Z",
     "iopub.status.busy": "2020-11-28T10:25:47.095355Z",
     "iopub.status.idle": "2020-11-28T10:25:47.103675Z",
     "shell.execute_reply": "2020-11-28T10:25:47.104448Z"
    },
    "papermill": {
     "duration": 0.037023,
     "end_time": "2020-11-28T10:25:47.104694",
     "exception": false,
     "start_time": "2020-11-28T10:25:47.067671",
     "status": "completed"
    },
    "tags": []
   },
   "outputs": [
    {
     "name": "stdout",
     "output_type": "stream",
     "text": [
      "[[-0.22407555  1.00771721 -0.06693033  1.06152627]\n",
      " [-2.25256047 -0.74104194  0.09365951  0.08200267]\n",
      " [-0.35211082  0.91698596 -0.04754169 -1.13982613]\n",
      " [ 1.87815929  0.00497784  0.17190281  0.02668559]\n",
      " [ 0.95058755 -1.18863906 -0.1510903  -0.0303884 ]]\n"
     ]
    }
   ],
   "source": [
    "P = vectors.T.dot(std_data.T)\n",
    "print(P.T)"
   ]
  },
  {
   "cell_type": "markdown",
   "metadata": {
    "papermill": {
     "duration": 0.02316,
     "end_time": "2020-11-28T10:25:47.149997",
     "exception": false,
     "start_time": "2020-11-28T10:25:47.126837",
     "status": "completed"
    },
    "tags": []
   },
   "source": [
    "### Result Using sklearn library"
   ]
  },
  {
   "cell_type": "code",
   "execution_count": 10,
   "metadata": {
    "execution": {
     "iopub.execute_input": "2020-11-28T10:25:47.201394Z",
     "iopub.status.busy": "2020-11-28T10:25:47.200371Z",
     "iopub.status.idle": "2020-11-28T10:25:48.563024Z",
     "shell.execute_reply": "2020-11-28T10:25:48.563792Z"
    },
    "papermill": {
     "duration": 1.391902,
     "end_time": "2020-11-28T10:25:48.563949",
     "exception": false,
     "start_time": "2020-11-28T10:25:47.172047",
     "status": "completed"
    },
    "tags": []
   },
   "outputs": [
    {
     "name": "stdout",
     "output_type": "stream",
     "text": [
      "[[ 0.85757205 -0.19504244 -0.19734083 -0.43311109]\n",
      " [ 0.51420394  0.34072566  0.34293369  0.70844676]]\n"
     ]
    }
   ],
   "source": [
    "from sklearn.decomposition import PCA\n",
    "\n",
    "pca = PCA(2)\n",
    "pca.fit_transform(A)\n",
    "\n",
    "print(pca.components_)"
   ]
  },
  {
   "cell_type": "code",
   "execution_count": 11,
   "metadata": {
    "execution": {
     "iopub.execute_input": "2020-11-28T10:25:48.616087Z",
     "iopub.status.busy": "2020-11-28T10:25:48.615150Z",
     "iopub.status.idle": "2020-11-28T10:25:48.618569Z",
     "shell.execute_reply": "2020-11-28T10:25:48.619384Z"
    },
    "papermill": {
     "duration": 0.03278,
     "end_time": "2020-11-28T10:25:48.619582",
     "exception": false,
     "start_time": "2020-11-28T10:25:48.586802",
     "status": "completed"
    },
    "tags": []
   },
   "outputs": [
    {
     "name": "stdout",
     "output_type": "stream",
     "text": [
      "[9.86007991 6.61303244]\n"
     ]
    }
   ],
   "source": [
    "print(pca.explained_variance_)"
   ]
  },
  {
   "cell_type": "code",
   "execution_count": 12,
   "metadata": {
    "execution": {
     "iopub.execute_input": "2020-11-28T10:25:48.673288Z",
     "iopub.status.busy": "2020-11-28T10:25:48.672417Z",
     "iopub.status.idle": "2020-11-28T10:25:48.677185Z",
     "shell.execute_reply": "2020-11-28T10:25:48.676558Z"
    },
    "papermill": {
     "duration": 0.033643,
     "end_time": "2020-11-28T10:25:48.677307",
     "exception": false,
     "start_time": "2020-11-28T10:25:48.643664",
     "status": "completed"
    },
    "tags": []
   },
   "outputs": [
    {
     "name": "stdout",
     "output_type": "stream",
     "text": [
      "[[-2.6779279  -1.38879949]\n",
      " [-1.3294411   4.15846725]\n",
      " [-2.6326033  -1.41800294]\n",
      " [ 2.44637524 -2.14319138]\n",
      " [ 4.19359705  0.79152656]]\n"
     ]
    }
   ],
   "source": [
    "# transform data\n",
    "B = pca.transform(A)\n",
    "print(B)"
   ]
  },
  {
   "cell_type": "markdown",
   "metadata": {
    "papermill": {
     "duration": 0.022952,
     "end_time": "2020-11-28T10:25:48.723816",
     "exception": false,
     "start_time": "2020-11-28T10:25:48.700864",
     "status": "completed"
    },
    "tags": []
   },
   "source": [
    "### I hope you liked my notebook"
   ]
  }
 ],
 "metadata": {
  "kernelspec": {
   "display_name": "Python 3",
   "language": "python",
   "name": "python3"
  },
  "language_info": {
   "codemirror_mode": {
    "name": "ipython",
    "version": 3
   },
   "file_extension": ".py",
   "mimetype": "text/x-python",
   "name": "python",
   "nbconvert_exporter": "python",
   "pygments_lexer": "ipython3",
   "version": "3.7.6"
  },
  "papermill": {
   "duration": 8.583206,
   "end_time": "2020-11-28T10:25:48.856582",
   "environment_variables": {},
   "exception": null,
   "input_path": "__notebook__.ipynb",
   "output_path": "__notebook__.ipynb",
   "parameters": {},
   "start_time": "2020-11-28T10:25:40.273376",
   "version": "2.1.0"
  }
 },
 "nbformat": 4,
 "nbformat_minor": 4
}
